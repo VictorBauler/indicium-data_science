{
 "cells": [
  {
   "attachments": {},
   "cell_type": "markdown",
   "metadata": {},
   "source": [
    "# Desafio\n",
    "\n",
    "Seu objetivo é identificar quais máquinas apresentam potencial de falha tendo como base dados extraídos através de sensores durante o processo de manufatura.  Para isso são fornecidos dois datasets: um dataset chamado desafio_manutencao_preditiva_treino composto por 6667 linhas, 9 colunas de informação (features) e a variável a ser prevista (“failure_type”).\n",
    "\n",
    "Participante: Victor Afonso Bauler"
   ]
  },
  {
   "attachments": {},
   "cell_type": "markdown",
   "metadata": {},
   "source": [
    "# Sumário Executivo\n",
    "\n"
   ]
  },
  {
   "cell_type": "markdown",
   "metadata": {},
   "source": []
  },
  {
   "attachments": {},
   "cell_type": "markdown",
   "metadata": {},
   "source": [
    "# Solução"
   ]
  },
  {
   "attachments": {},
   "cell_type": "markdown",
   "metadata": {},
   "source": [
    "## 1 - Importando bibliotecas necessárias\n",
    "\n",
    "Esta etapa consiste em importar as bibliotecas utilizadas no projeto."
   ]
  },
  {
   "cell_type": "code",
   "execution_count": 44,
   "metadata": {},
   "outputs": [],
   "source": [
    "import pandas as pd\n",
    "import os "
   ]
  },
  {
   "attachments": {},
   "cell_type": "markdown",
   "metadata": {},
   "source": [
    "## 2 - Carregamentos dos dados e checagem preliminar\n",
    "\n",
    "Durante esta etapa é realizada a leitura dos datasets fornecidos e checagem de valores faltantes e duplicados, buscando verificar se existe algum tipo de problema nos dados fornecidos."
   ]
  },
  {
   "cell_type": "code",
   "execution_count": 21,
   "metadata": {},
   "outputs": [
    {
     "name": "stdout",
     "output_type": "stream",
     "text": [
      "(6667, 9) (3333, 8)\n"
     ]
    }
   ],
   "source": [
    "# Definindo o diretório raiz\n",
    "ROOT_DIR = os.path.dirname(os.path.abspath(''))\n",
    "\n",
    "# Carregando os dados\n",
    "df_train = pd.read_csv(f'{ROOT_DIR}/data/desafio_manutencao_preditiva_treino.csv')\n",
    "df_test = pd.read_csv(f'{ROOT_DIR}/data/desafio_manutencao_preditiva_teste.csv')\n",
    "\n",
    "# Verificando a quantidade de linhas e colunas\n",
    "print(df_train.shape, df_test.shape)"
   ]
  },
  {
   "cell_type": "code",
   "execution_count": 40,
   "metadata": {},
   "outputs": [
    {
     "name": "stdout",
     "output_type": "stream",
     "text": [
      "Dados faltantes no dataset de treino \n",
      "udi                      0\n",
      "product_id               0\n",
      "type                     0\n",
      "air_temperature_k        0\n",
      "process_temperature_k    0\n",
      "rotational_speed_rpm     0\n",
      "torque_nm                0\n",
      "tool_wear_min            0\n",
      "failure_type             0\n",
      "dtype: int64\n",
      "\n",
      "Dados faltantes no dataset de teste \n",
      "udi                      0\n",
      "product_id               0\n",
      "type                     0\n",
      "air_temperature_k        0\n",
      "process_temperature_k    0\n",
      "rotational_speed_rpm     0\n",
      "torque_nm                0\n",
      "tool_wear_min            0\n",
      "dtype: int64\n"
     ]
    }
   ],
   "source": [
    "# Analisando dados faltantes\n",
    "print(f\"Dados faltantes no dataset de treino \\n{df_train.isna().sum()}\\n\")\n",
    "print(f\"Dados faltantes no dataset de teste \\n{df_test.isna().sum()}\")"
   ]
  },
  {
   "cell_type": "code",
   "execution_count": 43,
   "metadata": {},
   "outputs": [
    {
     "name": "stdout",
     "output_type": "stream",
     "text": [
      "Dados duplicados no dataset de treino \n",
      "0\n",
      "\n",
      "Dados duplicados no dataset de teste \n",
      "0\n"
     ]
    }
   ],
   "source": [
    "# Analisando dados duplicados\n",
    "print(f\"Dados duplicados no dataset de treino \\n{df_train.duplicated().sum()}\\n\")\n",
    "print(f\"Dados duplicados no dataset de teste \\n{df_test.duplicated().sum()}\")"
   ]
  },
  {
   "attachments": {},
   "cell_type": "markdown",
   "metadata": {},
   "source": [
    "## 3 - Análise Exploratória\n",
    "\n",
    "Esta etapa é responsável"
   ]
  },
  {
   "cell_type": "code",
   "execution_count": null,
   "metadata": {},
   "outputs": [],
   "source": []
  },
  {
   "attachments": {},
   "cell_type": "markdown",
   "metadata": {},
   "source": [
    "## 4 - Modelo Baseline"
   ]
  },
  {
   "attachments": {},
   "cell_type": "markdown",
   "metadata": {},
   "source": [
    "## 5 - Otimização de hiperparâmetros"
   ]
  },
  {
   "attachments": {},
   "cell_type": "markdown",
   "metadata": {},
   "source": [
    "## 6 - Resultados"
   ]
  },
  {
   "cell_type": "markdown",
   "metadata": {},
   "source": []
  }
 ],
 "metadata": {
  "kernelspec": {
   "display_name": ".venv",
   "language": "python",
   "name": "python3"
  },
  "language_info": {
   "codemirror_mode": {
    "name": "ipython",
    "version": 3
   },
   "file_extension": ".py",
   "mimetype": "text/x-python",
   "name": "python",
   "nbconvert_exporter": "python",
   "pygments_lexer": "ipython3",
   "version": "3.8.10"
  },
  "orig_nbformat": 4,
  "vscode": {
   "interpreter": {
    "hash": "f41439d0fa83ca1b3ac1ba2afb542cbe294dfa10890ea94f7c198bc792f7b92d"
   }
  }
 },
 "nbformat": 4,
 "nbformat_minor": 2
}
